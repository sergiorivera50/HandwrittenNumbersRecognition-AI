{
 "cells": [
  {
   "cell_type": "markdown",
   "metadata": {},
   "source": [
    "# HANDWRITTEN NUMBERS RECOGNITION NEURAL NETWORK"
   ]
  },
  {
   "cell_type": "code",
   "execution_count": 1,
   "metadata": {},
   "outputs": [],
   "source": [
    "import numpy\n",
    "import scipy.special #expit() for sigmoid function\n",
    "import matplotlib.pyplot\n",
    "%matplotlib inline \n",
    "\n",
    "input_nodes = 28*28\n",
    "hidden_nodes = 200\n",
    "output_nodes = 10\n",
    "learning_rate = 0.0394\n",
    "\n",
    "class neuralNetwork:\n",
    "    def __init__(self, inputnodes, hiddennodes, outputnodes, learningrate):\n",
    "        self.inodes = inputnodes\n",
    "        self.hnodes = hiddennodes\n",
    "        self.onodes = outputnodes\n",
    "        \n",
    "        #More sofisticated way of initialising weights inside wih and who matrices (normal distribution involved)\n",
    "        self.wih = numpy.random.normal(0.0, pow(self.hnodes, -0.5), (self.hnodes, self.inodes))\n",
    "        self.who = numpy.random.normal(0.0, pow(self.onodes, -0.5), (self.onodes, self.hnodes))\n",
    "        \n",
    "        self.lr = learningrate\n",
    "        self.activation_function = lambda x: scipy.special.expit(x)\n",
    "        pass\n",
    "    def train(self, inputs_list, targets_list):\n",
    "        #conver inputs list to 2d array\n",
    "        inputs = numpy.array(inputs_list, ndmin=2).T\n",
    "        targets = numpy.array(targets_list, ndmin=2).T\n",
    "        \n",
    "        #calculate sum and weight multiplication of inputs\n",
    "        hidden_inputs = numpy.dot(self.wih, inputs);\n",
    "        \n",
    "        #calculate the emerging signals from hidden layer\n",
    "        hidden_outputs = self.activation_function(hidden_inputs)\n",
    "        \n",
    "        #repeating the process for last 2 layers\n",
    "        final_inputs = numpy.dot(self.who, hidden_outputs)\n",
    "        final_outputs = self.activation_function(final_inputs)\n",
    "        \n",
    "        #ERROR BACKPROPAGATION\n",
    "        output_errors = targets - final_outputs\n",
    "        #hidden_errors = houtput_weights.T * errors_output\n",
    "        hidden_errors = numpy.dot(self.who.T, output_errors)\n",
    "        \n",
    "        #WEIGHT UPDATE j-k\n",
    "        self.who += self.lr * numpy.dot((output_errors * final_outputs * (1.0 - final_outputs)), numpy.transpose(hidden_outputs))\n",
    "        \n",
    "        #WEIGHT UPDATE i-j\n",
    "        self.wih += self.lr * numpy.dot((hidden_errors * hidden_outputs * (1 - hidden_outputs)), numpy.transpose(inputs))\n",
    "        pass\n",
    "    def query(self, inputs_list):\n",
    "        #conver inputs list to 2d array\n",
    "        inputs = numpy.array(inputs_list, ndmin=2).T\n",
    "        \n",
    "        #calculate sum and weight multiplication of inputs\n",
    "        hidden_inputs = numpy.dot(self.wih, inputs);\n",
    "        \n",
    "        #calculate the emerging signals from hidden layer\n",
    "        hidden_outputs = self.activation_function(hidden_inputs)\n",
    "        \n",
    "        #repeating the process for last 2 layers\n",
    "        final_inputs = numpy.dot(self.who, hidden_outputs)\n",
    "        final_outputs = self.activation_function(final_inputs)\n",
    "        \n",
    "        return final_outputs\n",
    "        pass\n",
    "    \n",
    "n = neuralNetwork(input_nodes, hidden_nodes, output_nodes, learning_rate)"
   ]
  },
  {
   "cell_type": "markdown",
   "metadata": {},
   "source": [
    "# N-NET TRAINING\n",
    "## 5 epoch | 200 hidden nodes | 0.1 learning rate | 60k examples"
   ]
  },
  {
   "cell_type": "code",
   "execution_count": 2,
   "metadata": {},
   "outputs": [
    {
     "name": "stdout",
     "output_type": "stream",
     "text": [
      "epoch 1\n",
      "epoch 2\n",
      "epoch 3\n",
      "epoch 4\n",
      "Done\n"
     ]
    }
   ],
   "source": [
    "data_file = open(\"../../mnist_dataset/mnist_train_60k.csv\",'r')\n",
    "training_data_list = data_file.readlines()\n",
    "data_file.close()\n",
    "\n",
    "epochs = 4 \n",
    "\n",
    "for e in range(epochs):\n",
    "    for record in training_data_list:\n",
    "        all_values = record.split(',')\n",
    "        inputs = ((numpy.asfarray(all_values[1:])) / 255.0 * 0.99) + 0.01\n",
    "        targets = numpy.zeros(output_nodes) + 0.01\n",
    "        targets[int(all_values[0])] = 0.99\n",
    "        n.train(inputs, targets)\n",
    "        pass\n",
    "    print(\"epoch\",e+1)\n",
    "    pass\n",
    "print(\"Done\")"
   ]
  },
  {
   "cell_type": "markdown",
   "metadata": {},
   "source": [
    "# N-NET TEST\n",
    "## 10k tests"
   ]
  },
  {
   "cell_type": "code",
   "execution_count": 2,
   "metadata": {
    "scrolled": true
   },
   "outputs": [
    {
     "name": "stdout",
     "output_type": "stream",
     "text": [
      "performance =  0.1061\n"
     ]
    }
   ],
   "source": [
    "test_data_file = open(\"../../mnist_dataset/mnist_test_10k.csv\", 'r')\n",
    "test_data_list = test_data_file.readlines()\n",
    "test_data_file.close()\n",
    "\n",
    "scorecard = []\n",
    "\n",
    "for record in test_data_list:\n",
    "    all_values = record.split(',')\n",
    "    \n",
    "    correct_label = int(all_values[0])\n",
    "    \n",
    "    inputs = ((numpy.asfarray(all_values[1:])) / 255.0 * 0.99) + 0.01\n",
    "    outputs = n.query(inputs)\n",
    "    label = numpy.argmax(outputs)\n",
    "    \n",
    "    if (label == correct_label):\n",
    "        scorecard.append(1)\n",
    "    else:\n",
    "        scorecard.append(0)\n",
    "        pass\n",
    "    pass\n",
    "scorecard_array = numpy.asarray(scorecard)\n",
    "print(\"performance = \", scorecard_array.sum() / scorecard_array.size)"
   ]
  },
  {
   "cell_type": "markdown",
   "metadata": {},
   "source": [
    "# OWN HANDWRITING TEST"
   ]
  },
  {
   "cell_type": "code",
   "execution_count": 3,
   "metadata": {},
   "outputs": [
    {
     "name": "stdout",
     "output_type": "stream",
     "text": [
      "[[0.96801892]\n",
      " [0.00181799]\n",
      " [0.42622961]\n",
      " [0.71415155]\n",
      " [0.29003517]\n",
      " [0.07091588]\n",
      " [0.93524788]\n",
      " [0.02479191]\n",
      " [0.03044214]\n",
      " [0.10284456]]\n",
      "Network's answer: 0\n"
     ]
    },
    {
     "data": {
      "image/png": "[encoded data removed]",
      "text/plain": [
       "<Figure size 432x288 with 1 Axes>"
      ]
     },
     "metadata": {
      "needs_background": "light"
     },
     "output_type": "display_data"
    }
   ],
   "source": [
    "import imageio\n",
    "\n",
    "image_file_name = \"digit.png\"\n",
    "img_array = imageio.imread(image_file_name, as_gray=True)\n",
    "img_array.flatten()\n",
    "img_data = 255.0 - img_array.reshape(784)\n",
    "img_data = (img_data / 255.0 * 0.99) + 0.01\n",
    "inputs = img_data\n",
    "outputs = n.query(inputs)\n",
    "label = numpy.argmax(outputs)\n",
    "\n",
    "print(outputs)\n",
    "matplotlib.pyplot.imshow(img_array, cmap=\"Greys\", interpolation=\"None\")\n",
    "print(\"Network's answer:\",label)"
   ]
  },
  {
   "cell_type": "markdown",
   "metadata": {},
   "source": [
    "# EXTENSIVE RESEARCH & PLOTTING"
   ]
  },
  {
   "cell_type": "code",
   "execution_count": null,
   "metadata": {},
   "outputs": [
    {
     "name": "stdout",
     "output_type": "stream",
     "text": [
      "Initial vs final learning rate: 0.01 vs 0.5\n",
      "Iterations: 50\n",
      "Epochs: 8\n",
      "Started at 2018-11-15 14:23:51.967847\n",
      "Iteration 1 completed successfully at 8 epochs 2018-11-15 14:34:48.165482\n",
      "Data 1 : learning rate= 0.01 performance: 0.9678\n",
      "Iteration 2 completed successfully at 8 epochs 2018-11-15 14:45:18.465285\n",
      "Data 2 : learning rate= 0.019799999999999998 performance: 0.9723\n",
      "Iteration 3 completed successfully at 8 epochs 2018-11-15 14:55:47.757273\n",
      "Data 3 : learning rate= 0.029599999999999998 performance: 0.9738\n",
      "Iteration 4 completed successfully at 8 epochs 2018-11-15 15:06:18.402178\n",
      "Data 4 : learning rate= 0.0394 performance: 0.97435\n",
      "Iteration 5 completed successfully at 8 epochs 2018-11-15 15:16:48.999266\n",
      "Data 5 : learning rate= 0.049199999999999994 performance: 0.97342\n",
      "Iteration 6 completed successfully at 8 epochs 2018-11-15 15:27:18.518560\n",
      "Data 6 : learning rate= 0.059 performance: 0.9723833333333334\n",
      "Iteration 7 completed successfully at 8 epochs 2018-11-15 15:37:45.991337\n",
      "Data 7 : learning rate= 0.0688 performance: 0.9714714285714285\n",
      "Iteration 8 completed successfully at 8 epochs 2018-11-15 15:48:13.967301\n",
      "Data 8 : learning rate= 0.0786 performance: 0.970775\n",
      "Iteration 9 completed successfully at 8 epochs 2018-11-15 15:58:40.933171\n",
      "Data 9 : learning rate= 0.0884 performance: 0.9698222222222223\n",
      "Iteration 10 completed successfully at 8 epochs 2018-11-15 16:09:09.807356\n",
      "Data 10 : learning rate= 0.09820000000000001 performance: 0.96862\n",
      "Iteration 11 completed successfully at 8 epochs 2018-11-15 16:19:38.712352\n",
      "Data 11 : learning rate= 0.10800000000000001 performance: 0.9681363636363637\n",
      "Iteration 12 completed successfully at 8 epochs 2018-11-15 16:30:05.484866\n",
      "Data 12 : learning rate= 0.11780000000000002 performance: 0.96765\n",
      "Iteration 13 completed successfully at 8 epochs 2018-11-15 16:40:34.089480\n",
      "Data 13 : learning rate= 0.12760000000000002 performance: 0.9669769230769231\n"
     ]
    }
   ],
   "source": [
    "# import matplotlib.pyplot as plt\n",
    "import datetime\n",
    "\n",
    "test_data_file = open(\"../../mnist_dataset/mnist_test_10k.csv\", 'r')\n",
    "test_data_list = test_data_file.readlines()\n",
    "test_data_file.close()\n",
    "\n",
    "data_file = open(\"../../mnist_dataset/mnist_train_60k.csv\",'r')\n",
    "training_data_list = data_file.readlines()\n",
    "data_file.close()\n",
    "\n",
    "scorecard = []\n",
    "lrates = []\n",
    "performanceArray = []\n",
    "\n",
    "epochs = 8\n",
    "iterations = 50\n",
    "\n",
    "initialLr = 0.01\n",
    "finalLr = 0.5\n",
    "lrIncrement = (finalLr - initialLr) / iterations\n",
    "\n",
    "n.lr = initialLr\n",
    "print(\"Initial vs final learning rate:\",initialLr,\"vs\",finalLr)\n",
    "print(\"Iterations:\",iterations)\n",
    "print(\"Epochs:\",epochs)\n",
    "print(\"Started at\",datetime.datetime.now())\n",
    "for i in range(iterations):\n",
    "    #TRAIN\n",
    "    for e in range(epochs):\n",
    "        for record in training_data_list:\n",
    "            all_values = record.split(',')\n",
    "            inputs = ((numpy.asfarray(all_values[1:])) / 255.0 * 0.99) + 0.01\n",
    "            targets = numpy.zeros(output_nodes) + 0.01\n",
    "            targets[int(all_values[0])] = 0.99\n",
    "            n.train(inputs, targets)\n",
    "            pass\n",
    "        pass\n",
    "    #TEST\n",
    "    for record in test_data_list:\n",
    "        all_values = record.split(',')\n",
    "        correct_label = int(all_values[0])\n",
    "        inputs = ((numpy.asfarray(all_values[1:])) / 255.0 * 0.99) + 0.01\n",
    "        outputs = n.query(inputs)\n",
    "        label = numpy.argmax(outputs)\n",
    "\n",
    "        if (label == correct_label):\n",
    "            scorecard.append(1)\n",
    "        else:\n",
    "            scorecard.append(0)\n",
    "            pass\n",
    "        pass\n",
    "    scorecard_array = numpy.asarray(scorecard)\n",
    "    lrates.append(n.lr)\n",
    "    performanceArray.append(scorecard_array.sum() / scorecard_array.size)\n",
    "    n.lr += lrIncrement\n",
    "    print(\"Iteration\",i+1,\"completed successfully at\",e+1,\"epochs\",datetime.datetime.now())\n",
    "    print(\"Data\",i+1,\": learning rate=\",lrates[i],\"performance:\",performanceArray[i])\n",
    "    pass\n",
    "print(\"Highest performance achieved=\",performanceArray[numpy.argmax(performanceArray)],\"at lr=\",lrates[numpy.argmax(performanceArray)])\n",
    "print(\"Report finished on\",datetime.datetime.now())"
   ]
  },
  {
   "cell_type": "code",
   "execution_count": 4,
   "metadata": {},
   "outputs": [
    {
     "ename": "NameError",
     "evalue": "name 'plt' is not defined",
     "output_type": "error",
     "traceback": [
      "\u001b[1;31m---------------------------------------------------------------------------\u001b[0m",
      "\u001b[1;31mNameError\u001b[0m                                 Traceback (most recent call last)",
      "\u001b[1;32m<ipython-input-4-e21a9f0b28a7>\u001b[0m in \u001b[0;36m<module>\u001b[1;34m()\u001b[0m\n\u001b[1;32m----> 1\u001b[1;33m \u001b[0mplt\u001b[0m\u001b[1;33m.\u001b[0m\u001b[0mtitle\u001b[0m\u001b[1;33m(\u001b[0m\u001b[1;34m\"Most efficient learning rate at 8 epochs\"\u001b[0m\u001b[1;33m)\u001b[0m\u001b[1;33m\u001b[0m\u001b[0m\n\u001b[0m\u001b[0;32m      2\u001b[0m \u001b[0mplt\u001b[0m\u001b[1;33m.\u001b[0m\u001b[0mylabel\u001b[0m\u001b[1;33m(\u001b[0m\u001b[1;34m\"efficiency\"\u001b[0m\u001b[1;33m)\u001b[0m\u001b[1;33m\u001b[0m\u001b[0m\n\u001b[0;32m      3\u001b[0m \u001b[0mplt\u001b[0m\u001b[1;33m.\u001b[0m\u001b[0mxlabel\u001b[0m\u001b[1;33m(\u001b[0m\u001b[1;34m\"learning rate\"\u001b[0m\u001b[1;33m)\u001b[0m\u001b[1;33m\u001b[0m\u001b[0m\n\u001b[0;32m      4\u001b[0m \u001b[0mplt\u001b[0m\u001b[1;33m.\u001b[0m\u001b[0mplot\u001b[0m\u001b[1;33m(\u001b[0m\u001b[0mlrates\u001b[0m\u001b[1;33m,\u001b[0m \u001b[0mperformanceArray\u001b[0m\u001b[1;33m,\u001b[0m \u001b[1;34m\"b\"\u001b[0m\u001b[1;33m)\u001b[0m\u001b[1;33m\u001b[0m\u001b[0m\n\u001b[0;32m      5\u001b[0m \u001b[0mplt\u001b[0m\u001b[1;33m.\u001b[0m\u001b[0mgrid\u001b[0m\u001b[1;33m(\u001b[0m\u001b[1;32mTrue\u001b[0m\u001b[1;33m)\u001b[0m\u001b[1;33m\u001b[0m\u001b[0m\n",
      "\u001b[1;31mNameError\u001b[0m: name 'plt' is not defined"
     ]
    }
   ],
   "source": [
    "plt.title(\"Most efficient learning rate at 8 epochs\")\n",
    "plt.ylabel(\"efficiency\")\n",
    "plt.xlabel(\"learning rate\")\n",
    "plt.plot(lrates, performanceArray, \"b\")\n",
    "plt.grid(True)\n",
    "plt.show()\n",
    "print(\"Highest performance achieved=\",performanceArray[numpy.argmax(performanceArray)],\"at lr=\",lrates[numpy.argmax(performanceArray)])"
   ]
  }
 ],
 "metadata": {
  "kernelspec": {
   "display_name": "Python 3",
   "language": "python",
   "name": "python3"
  },
  "language_info": {
   "codemirror_mode": {
    "name": "ipython",
    "version": 3
   },
   "file_extension": ".py",
   "mimetype": "text/x-python",
   "name": "python",
   "nbconvert_exporter": "python",
   "pygments_lexer": "ipython3",
   "version": "3.7.0"
  }
 },
 "nbformat": 4,
 "nbformat_minor": 2
}
